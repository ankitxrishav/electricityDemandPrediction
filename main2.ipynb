{
 "cells": [
  {
   "cell_type": "code",
   "execution_count": 2,
   "metadata": {},
   "outputs": [
    {
     "name": "stdout",
     "output_type": "stream",
     "text": [
      "✅ Scalers recovered and saved!\n"
     ]
    }
   ],
   "source": [
    "import pandas as pd\n",
    "from sklearn.preprocessing import MinMaxScaler\n",
    "import joblib\n",
    "# Reload your original training data\n",
    "df = pd.read_csv('final_cleaned.csv')\n",
    "\n",
    "# Prepare features and target exactly like training\n",
    "features = ['day_of_week', 'hour_of_day', 'is_weekend', 'temperature',\n",
    "            'is_holiday', 'solar_generation', 'is_summer', 'is_winter', 'is_monsoon']\n",
    "\n",
    "X = df[features]\n",
    "y = df[['electricity_demand']]\n",
    "\n",
    "# Fit scalers again\n",
    "scaler_X = MinMaxScaler().fit(X)\n",
    "scaler_y = MinMaxScaler().fit(y)\n",
    "\n",
    "# Save\n",
    "joblib.dump(scaler_X, 'scaler_X.pkl')\n",
    "joblib.dump(scaler_y, 'scaler_y.pkl')\n",
    "print(\"✅ Scalers recovered and saved!\")"
   ]
  },
  {
   "cell_type": "code",
   "execution_count": null,
   "metadata": {},
   "outputs": [],
   "source": []
  }
 ],
 "metadata": {
  "kernelspec": {
   "display_name": "Python 3",
   "language": "python",
   "name": "python3"
  },
  "language_info": {
   "codemirror_mode": {
    "name": "ipython",
    "version": 3
   },
   "file_extension": ".py",
   "mimetype": "text/x-python",
   "name": "python",
   "nbconvert_exporter": "python",
   "pygments_lexer": "ipython3",
   "version": "3.12.5"
  }
 },
 "nbformat": 4,
 "nbformat_minor": 2
}
